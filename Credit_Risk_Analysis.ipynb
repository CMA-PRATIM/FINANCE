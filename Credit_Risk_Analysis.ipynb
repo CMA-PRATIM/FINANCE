{
 "cells": [
  {
   "cell_type": "code",
   "execution_count": 1,
   "id": "6f0aa022-6288-4722-917d-9cb1608b9d23",
   "metadata": {},
   "outputs": [],
   "source": [
    "import pandas as pd\n",
    "import seaborn as sns\n",
    "import matplotlib.pyplot as plt\n",
    "import numpy as np"
   ]
  },
  {
   "cell_type": "code",
   "execution_count": 2,
   "id": "0f94419c-943d-45f9-908a-c6d32c6bcd35",
   "metadata": {},
   "outputs": [
    {
     "data": {
      "text/html": [
       "<div>\n",
       "<style scoped>\n",
       "    .dataframe tbody tr th:only-of-type {\n",
       "        vertical-align: middle;\n",
       "    }\n",
       "\n",
       "    .dataframe tbody tr th {\n",
       "        vertical-align: top;\n",
       "    }\n",
       "\n",
       "    .dataframe thead th {\n",
       "        text-align: right;\n",
       "    }\n",
       "</style>\n",
       "<table border=\"1\" class=\"dataframe\">\n",
       "  <thead>\n",
       "    <tr style=\"text-align: right;\">\n",
       "      <th></th>\n",
       "      <th>person_age</th>\n",
       "      <th>person_income</th>\n",
       "      <th>person_home_ownership</th>\n",
       "      <th>person_emp_length</th>\n",
       "      <th>loan_intent</th>\n",
       "      <th>loan_grade</th>\n",
       "      <th>loan_amnt</th>\n",
       "      <th>loan_int_rate</th>\n",
       "      <th>loan_status</th>\n",
       "      <th>loan_percent_income</th>\n",
       "      <th>cb_person_default_on_file</th>\n",
       "      <th>cb_person_cred_hist_length</th>\n",
       "    </tr>\n",
       "  </thead>\n",
       "  <tbody>\n",
       "    <tr>\n",
       "      <th>0</th>\n",
       "      <td>22</td>\n",
       "      <td>59000</td>\n",
       "      <td>RENT</td>\n",
       "      <td>123.0</td>\n",
       "      <td>PERSONAL</td>\n",
       "      <td>D</td>\n",
       "      <td>35000</td>\n",
       "      <td>16.02</td>\n",
       "      <td>1</td>\n",
       "      <td>0.59</td>\n",
       "      <td>Y</td>\n",
       "      <td>3</td>\n",
       "    </tr>\n",
       "    <tr>\n",
       "      <th>1</th>\n",
       "      <td>21</td>\n",
       "      <td>9600</td>\n",
       "      <td>OWN</td>\n",
       "      <td>5.0</td>\n",
       "      <td>EDUCATION</td>\n",
       "      <td>B</td>\n",
       "      <td>1000</td>\n",
       "      <td>11.14</td>\n",
       "      <td>0</td>\n",
       "      <td>0.10</td>\n",
       "      <td>N</td>\n",
       "      <td>2</td>\n",
       "    </tr>\n",
       "    <tr>\n",
       "      <th>2</th>\n",
       "      <td>25</td>\n",
       "      <td>9600</td>\n",
       "      <td>MORTGAGE</td>\n",
       "      <td>1.0</td>\n",
       "      <td>MEDICAL</td>\n",
       "      <td>C</td>\n",
       "      <td>5500</td>\n",
       "      <td>12.87</td>\n",
       "      <td>1</td>\n",
       "      <td>0.57</td>\n",
       "      <td>N</td>\n",
       "      <td>3</td>\n",
       "    </tr>\n",
       "    <tr>\n",
       "      <th>3</th>\n",
       "      <td>23</td>\n",
       "      <td>65500</td>\n",
       "      <td>RENT</td>\n",
       "      <td>4.0</td>\n",
       "      <td>MEDICAL</td>\n",
       "      <td>C</td>\n",
       "      <td>35000</td>\n",
       "      <td>15.23</td>\n",
       "      <td>1</td>\n",
       "      <td>0.53</td>\n",
       "      <td>N</td>\n",
       "      <td>2</td>\n",
       "    </tr>\n",
       "    <tr>\n",
       "      <th>4</th>\n",
       "      <td>24</td>\n",
       "      <td>54400</td>\n",
       "      <td>RENT</td>\n",
       "      <td>8.0</td>\n",
       "      <td>MEDICAL</td>\n",
       "      <td>C</td>\n",
       "      <td>35000</td>\n",
       "      <td>14.27</td>\n",
       "      <td>1</td>\n",
       "      <td>0.55</td>\n",
       "      <td>Y</td>\n",
       "      <td>4</td>\n",
       "    </tr>\n",
       "  </tbody>\n",
       "</table>\n",
       "</div>"
      ],
      "text/plain": [
       "   person_age  person_income person_home_ownership  person_emp_length  \\\n",
       "0          22          59000                  RENT              123.0   \n",
       "1          21           9600                   OWN                5.0   \n",
       "2          25           9600              MORTGAGE                1.0   \n",
       "3          23          65500                  RENT                4.0   \n",
       "4          24          54400                  RENT                8.0   \n",
       "\n",
       "  loan_intent loan_grade  loan_amnt  loan_int_rate  loan_status  \\\n",
       "0    PERSONAL          D      35000          16.02            1   \n",
       "1   EDUCATION          B       1000          11.14            0   \n",
       "2     MEDICAL          C       5500          12.87            1   \n",
       "3     MEDICAL          C      35000          15.23            1   \n",
       "4     MEDICAL          C      35000          14.27            1   \n",
       "\n",
       "   loan_percent_income cb_person_default_on_file  cb_person_cred_hist_length  \n",
       "0                 0.59                         Y                           3  \n",
       "1                 0.10                         N                           2  \n",
       "2                 0.57                         N                           3  \n",
       "3                 0.53                         N                           2  \n",
       "4                 0.55                         Y                           4  "
      ]
     },
     "execution_count": 2,
     "metadata": {},
     "output_type": "execute_result"
    }
   ],
   "source": [
    "df1=pd.read_csv(\"credit_risk_dataset.csv\")\n",
    "df1.head()"
   ]
  },
  {
   "cell_type": "code",
   "execution_count": 3,
   "id": "3a8aa628-a046-4711-9282-5fe8a50be126",
   "metadata": {},
   "outputs": [
    {
     "data": {
      "text/plain": [
       "0    25473\n",
       "1     7108\n",
       "Name: loan_status, dtype: int64"
      ]
     },
     "execution_count": 3,
     "metadata": {},
     "output_type": "execute_result"
    }
   ],
   "source": [
    "df1[\"loan_status\"].value_counts()"
   ]
  },
  {
   "cell_type": "code",
   "execution_count": 4,
   "id": "275d957f-10b1-4fb6-be1a-639d3232eba5",
   "metadata": {},
   "outputs": [
    {
     "data": {
      "text/plain": [
       "person_age                       0\n",
       "person_income                    0\n",
       "person_home_ownership            0\n",
       "person_emp_length              895\n",
       "loan_intent                      0\n",
       "loan_grade                       0\n",
       "loan_amnt                        0\n",
       "loan_int_rate                 3116\n",
       "loan_status                      0\n",
       "loan_percent_income              0\n",
       "cb_person_default_on_file        0\n",
       "cb_person_cred_hist_length       0\n",
       "dtype: int64"
      ]
     },
     "execution_count": 4,
     "metadata": {},
     "output_type": "execute_result"
    }
   ],
   "source": [
    "df1.isnull().sum()"
   ]
  },
  {
   "cell_type": "code",
   "execution_count": 5,
   "id": "558d81cc-eb9d-4bfb-8864-4ba1d30009eb",
   "metadata": {},
   "outputs": [
    {
     "data": {
      "text/plain": [
       "(32581, 12)"
      ]
     },
     "execution_count": 5,
     "metadata": {},
     "output_type": "execute_result"
    }
   ],
   "source": [
    "df1.shape"
   ]
  },
  {
   "cell_type": "code",
   "execution_count": 6,
   "id": "8b76802f-e637-4a33-9c65-1e4f88b8ac72",
   "metadata": {},
   "outputs": [
    {
     "name": "stdout",
     "output_type": "stream",
     "text": [
      "<class 'pandas.core.frame.DataFrame'>\n",
      "RangeIndex: 32581 entries, 0 to 32580\n",
      "Data columns (total 12 columns):\n",
      " #   Column                      Non-Null Count  Dtype  \n",
      "---  ------                      --------------  -----  \n",
      " 0   person_age                  32581 non-null  int64  \n",
      " 1   person_income               32581 non-null  int64  \n",
      " 2   person_home_ownership       32581 non-null  object \n",
      " 3   person_emp_length           31686 non-null  float64\n",
      " 4   loan_intent                 32581 non-null  object \n",
      " 5   loan_grade                  32581 non-null  object \n",
      " 6   loan_amnt                   32581 non-null  int64  \n",
      " 7   loan_int_rate               29465 non-null  float64\n",
      " 8   loan_status                 32581 non-null  int64  \n",
      " 9   loan_percent_income         32581 non-null  float64\n",
      " 10  cb_person_default_on_file   32581 non-null  object \n",
      " 11  cb_person_cred_hist_length  32581 non-null  int64  \n",
      "dtypes: float64(3), int64(5), object(4)\n",
      "memory usage: 3.0+ MB\n"
     ]
    }
   ],
   "source": [
    "df1.info()"
   ]
  },
  {
   "cell_type": "code",
   "execution_count": 7,
   "id": "293ce379-b77c-45a8-8557-83be03f5ed99",
   "metadata": {},
   "outputs": [
    {
     "data": {
      "text/html": [
       "<div>\n",
       "<style scoped>\n",
       "    .dataframe tbody tr th:only-of-type {\n",
       "        vertical-align: middle;\n",
       "    }\n",
       "\n",
       "    .dataframe tbody tr th {\n",
       "        vertical-align: top;\n",
       "    }\n",
       "\n",
       "    .dataframe thead th {\n",
       "        text-align: right;\n",
       "    }\n",
       "</style>\n",
       "<table border=\"1\" class=\"dataframe\">\n",
       "  <thead>\n",
       "    <tr style=\"text-align: right;\">\n",
       "      <th></th>\n",
       "      <th>person_age</th>\n",
       "      <th>person_income</th>\n",
       "      <th>person_emp_length</th>\n",
       "      <th>loan_amnt</th>\n",
       "      <th>loan_int_rate</th>\n",
       "      <th>loan_status</th>\n",
       "      <th>loan_percent_income</th>\n",
       "      <th>cb_person_cred_hist_length</th>\n",
       "    </tr>\n",
       "  </thead>\n",
       "  <tbody>\n",
       "    <tr>\n",
       "      <th>count</th>\n",
       "      <td>32581.000000</td>\n",
       "      <td>3.258100e+04</td>\n",
       "      <td>31686.000000</td>\n",
       "      <td>32581.000000</td>\n",
       "      <td>29465.000000</td>\n",
       "      <td>32581.000000</td>\n",
       "      <td>32581.000000</td>\n",
       "      <td>32581.000000</td>\n",
       "    </tr>\n",
       "    <tr>\n",
       "      <th>mean</th>\n",
       "      <td>27.734600</td>\n",
       "      <td>6.607485e+04</td>\n",
       "      <td>4.789686</td>\n",
       "      <td>9589.371106</td>\n",
       "      <td>11.011695</td>\n",
       "      <td>0.218164</td>\n",
       "      <td>0.170203</td>\n",
       "      <td>5.804211</td>\n",
       "    </tr>\n",
       "    <tr>\n",
       "      <th>std</th>\n",
       "      <td>6.348078</td>\n",
       "      <td>6.198312e+04</td>\n",
       "      <td>4.142630</td>\n",
       "      <td>6322.086646</td>\n",
       "      <td>3.240459</td>\n",
       "      <td>0.413006</td>\n",
       "      <td>0.106782</td>\n",
       "      <td>4.055001</td>\n",
       "    </tr>\n",
       "    <tr>\n",
       "      <th>min</th>\n",
       "      <td>20.000000</td>\n",
       "      <td>4.000000e+03</td>\n",
       "      <td>0.000000</td>\n",
       "      <td>500.000000</td>\n",
       "      <td>5.420000</td>\n",
       "      <td>0.000000</td>\n",
       "      <td>0.000000</td>\n",
       "      <td>2.000000</td>\n",
       "    </tr>\n",
       "    <tr>\n",
       "      <th>25%</th>\n",
       "      <td>23.000000</td>\n",
       "      <td>3.850000e+04</td>\n",
       "      <td>2.000000</td>\n",
       "      <td>5000.000000</td>\n",
       "      <td>7.900000</td>\n",
       "      <td>0.000000</td>\n",
       "      <td>0.090000</td>\n",
       "      <td>3.000000</td>\n",
       "    </tr>\n",
       "    <tr>\n",
       "      <th>50%</th>\n",
       "      <td>26.000000</td>\n",
       "      <td>5.500000e+04</td>\n",
       "      <td>4.000000</td>\n",
       "      <td>8000.000000</td>\n",
       "      <td>10.990000</td>\n",
       "      <td>0.000000</td>\n",
       "      <td>0.150000</td>\n",
       "      <td>4.000000</td>\n",
       "    </tr>\n",
       "    <tr>\n",
       "      <th>75%</th>\n",
       "      <td>30.000000</td>\n",
       "      <td>7.920000e+04</td>\n",
       "      <td>7.000000</td>\n",
       "      <td>12200.000000</td>\n",
       "      <td>13.470000</td>\n",
       "      <td>0.000000</td>\n",
       "      <td>0.230000</td>\n",
       "      <td>8.000000</td>\n",
       "    </tr>\n",
       "    <tr>\n",
       "      <th>max</th>\n",
       "      <td>144.000000</td>\n",
       "      <td>6.000000e+06</td>\n",
       "      <td>123.000000</td>\n",
       "      <td>35000.000000</td>\n",
       "      <td>23.220000</td>\n",
       "      <td>1.000000</td>\n",
       "      <td>0.830000</td>\n",
       "      <td>30.000000</td>\n",
       "    </tr>\n",
       "  </tbody>\n",
       "</table>\n",
       "</div>"
      ],
      "text/plain": [
       "         person_age  person_income  person_emp_length     loan_amnt  \\\n",
       "count  32581.000000   3.258100e+04       31686.000000  32581.000000   \n",
       "mean      27.734600   6.607485e+04           4.789686   9589.371106   \n",
       "std        6.348078   6.198312e+04           4.142630   6322.086646   \n",
       "min       20.000000   4.000000e+03           0.000000    500.000000   \n",
       "25%       23.000000   3.850000e+04           2.000000   5000.000000   \n",
       "50%       26.000000   5.500000e+04           4.000000   8000.000000   \n",
       "75%       30.000000   7.920000e+04           7.000000  12200.000000   \n",
       "max      144.000000   6.000000e+06         123.000000  35000.000000   \n",
       "\n",
       "       loan_int_rate   loan_status  loan_percent_income  \\\n",
       "count   29465.000000  32581.000000         32581.000000   \n",
       "mean       11.011695      0.218164             0.170203   \n",
       "std         3.240459      0.413006             0.106782   \n",
       "min         5.420000      0.000000             0.000000   \n",
       "25%         7.900000      0.000000             0.090000   \n",
       "50%        10.990000      0.000000             0.150000   \n",
       "75%        13.470000      0.000000             0.230000   \n",
       "max        23.220000      1.000000             0.830000   \n",
       "\n",
       "       cb_person_cred_hist_length  \n",
       "count                32581.000000  \n",
       "mean                     5.804211  \n",
       "std                      4.055001  \n",
       "min                      2.000000  \n",
       "25%                      3.000000  \n",
       "50%                      4.000000  \n",
       "75%                      8.000000  \n",
       "max                     30.000000  "
      ]
     },
     "execution_count": 7,
     "metadata": {},
     "output_type": "execute_result"
    }
   ],
   "source": [
    "df1.describe()"
   ]
  },
  {
   "cell_type": "code",
   "execution_count": 8,
   "id": "762aaa3d-8b79-44a4-8cc4-3bab54057a04",
   "metadata": {},
   "outputs": [
    {
     "data": {
      "text/plain": [
       "RENT        16446\n",
       "MORTGAGE    13444\n",
       "OWN          2584\n",
       "OTHER         107\n",
       "Name: person_home_ownership, dtype: int64"
      ]
     },
     "execution_count": 8,
     "metadata": {},
     "output_type": "execute_result"
    }
   ],
   "source": [
    "df1[\"person_home_ownership\"].value_counts()"
   ]
  },
  {
   "cell_type": "code",
   "execution_count": 9,
   "id": "803b8085-3c0d-40af-9f81-da818e9419d4",
   "metadata": {},
   "outputs": [
    {
     "data": {
      "text/plain": [
       "23    115\n",
       "22    114\n",
       "24     94\n",
       "25     85\n",
       "26     57\n",
       "21     51\n",
       "30     50\n",
       "28     49\n",
       "27     43\n",
       "29     41\n",
       "31     32\n",
       "33     24\n",
       "32     20\n",
       "34     18\n",
       "35     14\n",
       "36     14\n",
       "38     11\n",
       "40     10\n",
       "39     10\n",
       "37      9\n",
       "44      7\n",
       "43      7\n",
       "41      7\n",
       "47      3\n",
       "42      3\n",
       "48      1\n",
       "50      1\n",
       "49      1\n",
       "51      1\n",
       "70      1\n",
       "56      1\n",
       "53      1\n",
       "Name: person_age, dtype: int64"
      ]
     },
     "execution_count": 9,
     "metadata": {},
     "output_type": "execute_result"
    }
   ],
   "source": [
    "df1[df1[\"person_emp_length\"].isna()][\"person_age\"].value_counts()"
   ]
  },
  {
   "cell_type": "code",
   "execution_count": 10,
   "id": "1c3ecf99-2cba-469f-b836-04e31090fd04",
   "metadata": {},
   "outputs": [
    {
     "name": "stderr",
     "output_type": "stream",
     "text": [
      "C:\\Users\\TMC-AC4\\AppData\\Local\\Temp\\ipykernel_3292\\3731365653.py:1: UserWarning: Boolean Series key will be reindexed to match DataFrame index.\n",
      "  EMP=df1[(df1[\"person_home_ownership\"]==\"RENT\")|(df1[\"person_home_ownership\"]==\"MORTGAGE\")][(df1[\"person_age\"]==23)|(df1[\"person_age\"]==22)][\"person_emp_length\"].mean()\n"
     ]
    }
   ],
   "source": [
    "EMP=df1[(df1[\"person_home_ownership\"]==\"RENT\")|(df1[\"person_home_ownership\"]==\"MORTGAGE\")][(df1[\"person_age\"]==23)|(df1[\"person_age\"]==22)][\"person_emp_length\"].mean()"
   ]
  },
  {
   "cell_type": "code",
   "execution_count": 11,
   "id": "28ab28a0-0a26-4074-a433-207a0ab33fcf",
   "metadata": {},
   "outputs": [
    {
     "data": {
      "text/plain": [
       "[0         True\n",
       " 1         True\n",
       " 2         True\n",
       " 3         True\n",
       " 4         True\n",
       "          ...  \n",
       " 32576    False\n",
       " 32577    False\n",
       " 32578    False\n",
       " 32579    False\n",
       " 32580    False\n",
       " Name: person_age, Length: 32581, dtype: bool]"
      ]
     },
     "execution_count": 11,
     "metadata": {},
     "output_type": "execute_result"
    }
   ],
   "source": [
    "[df1[\"person_age\"]<=df1[df1[\"person_emp_length\"].isna()][\"person_age\"].mean()]"
   ]
  },
  {
   "cell_type": "code",
   "execution_count": 12,
   "id": "9140e6c4-35e7-4161-8180-596ff070240c",
   "metadata": {},
   "outputs": [
    {
     "data": {
      "text/plain": [
       "3.7962466487935655"
      ]
     },
     "execution_count": 12,
     "metadata": {},
     "output_type": "execute_result"
    }
   ],
   "source": [
    "EMP"
   ]
  },
  {
   "cell_type": "code",
   "execution_count": 13,
   "id": "a6541e71-e9f3-46a1-9255-70d2c8d0d612",
   "metadata": {},
   "outputs": [],
   "source": [
    "df1[\"person_emp_length\"].fillna(EMP,inplace=True)"
   ]
  },
  {
   "cell_type": "code",
   "execution_count": 14,
   "id": "4811221e-a8f1-4648-9f18-72cf4c51e5b0",
   "metadata": {},
   "outputs": [
    {
     "data": {
      "text/plain": [
       "person_age                       0\n",
       "person_income                    0\n",
       "person_home_ownership            0\n",
       "person_emp_length                0\n",
       "loan_intent                      0\n",
       "loan_grade                       0\n",
       "loan_amnt                        0\n",
       "loan_int_rate                 3116\n",
       "loan_status                      0\n",
       "loan_percent_income              0\n",
       "cb_person_default_on_file        0\n",
       "cb_person_cred_hist_length       0\n",
       "dtype: int64"
      ]
     },
     "execution_count": 14,
     "metadata": {},
     "output_type": "execute_result"
    }
   ],
   "source": [
    "df1.isnull().sum()"
   ]
  },
  {
   "cell_type": "code",
   "execution_count": 15,
   "id": "133803ba-430a-4588-a08a-9d52dfaba779",
   "metadata": {},
   "outputs": [
    {
     "data": {
      "text/plain": [
       "MEDICAL              620\n",
       "EDUCATION            599\n",
       "VENTURE              566\n",
       "DEBTCONSOLIDATION    509\n",
       "PERSONAL             507\n",
       "HOMEIMPROVEMENT      315\n",
       "Name: loan_intent, dtype: int64"
      ]
     },
     "execution_count": 15,
     "metadata": {},
     "output_type": "execute_result"
    }
   ],
   "source": [
    "df1[df1[\"loan_int_rate\"].isna()][\"loan_intent\"].value_counts()"
   ]
  },
  {
   "cell_type": "code",
   "execution_count": 16,
   "id": "3aaa255c-55c7-4e8d-9b89-c4516f48d264",
   "metadata": {},
   "outputs": [
    {
     "data": {
      "text/plain": [
       "B    1056\n",
       "A    1003\n",
       "C     630\n",
       "D     312\n",
       "E      83\n",
       "F      27\n",
       "G       5\n",
       "Name: loan_grade, dtype: int64"
      ]
     },
     "execution_count": 16,
     "metadata": {},
     "output_type": "execute_result"
    }
   ],
   "source": [
    "df1[df1[\"loan_int_rate\"].isna()][\"loan_grade\"].value_counts()"
   ]
  },
  {
   "cell_type": "code",
   "execution_count": 25,
   "id": "01467c15-a2b7-4c6a-b37d-167ca168d7b6",
   "metadata": {},
   "outputs": [
    {
     "data": {
      "text/plain": [
       "9633.119383825417"
      ]
     },
     "execution_count": 25,
     "metadata": {},
     "output_type": "execute_result"
    }
   ],
   "source": [
    "df1[df1[\"loan_int_rate\"].isna()][\"loan_amnt\"].mean()"
   ]
  },
  {
   "cell_type": "code",
   "execution_count": 47,
   "id": "85785f4c-88bf-4de6-b603-700fe62de81d",
   "metadata": {},
   "outputs": [],
   "source": [
    "avg=df1[(df1[\"loan_intent\"]==\"MEDICAL\")&(df1[\"loan_grade\"]==\"B\")&(df1[\"loan_int_rate\"].isna())][\"loan_amnt\"].mean()"
   ]
  },
  {
   "cell_type": "code",
   "execution_count": 49,
   "id": "50015855-f226-45e4-a114-9037288dbe9f",
   "metadata": {},
   "outputs": [],
   "source": [
    "INT=df1[\"loan_int_rate\"].mean()/df1[\"loan_amnt\"].mean()*avg"
   ]
  },
  {
   "cell_type": "code",
   "execution_count": 50,
   "id": "6616b30c-599a-4a61-8e8b-18a1a4996050",
   "metadata": {},
   "outputs": [
    {
     "data": {
      "text/plain": [
       "11.217464174090983"
      ]
     },
     "execution_count": 50,
     "metadata": {},
     "output_type": "execute_result"
    }
   ],
   "source": [
    "INT"
   ]
  },
  {
   "cell_type": "code",
   "execution_count": 51,
   "id": "e04c3df0-2a40-4aa2-b771-d813511f168c",
   "metadata": {},
   "outputs": [],
   "source": [
    "df1[\"loan_int_rate\"].fillna(INT,inplace=True)"
   ]
  },
  {
   "cell_type": "code",
   "execution_count": 52,
   "id": "51ceed6f-8b83-4aa6-b719-2f95c80b581a",
   "metadata": {},
   "outputs": [
    {
     "data": {
      "text/plain": [
       "person_age                    0\n",
       "person_income                 0\n",
       "person_home_ownership         0\n",
       "person_emp_length             0\n",
       "loan_intent                   0\n",
       "loan_grade                    0\n",
       "loan_amnt                     0\n",
       "loan_int_rate                 0\n",
       "loan_status                   0\n",
       "loan_percent_income           0\n",
       "cb_person_default_on_file     0\n",
       "cb_person_cred_hist_length    0\n",
       "dtype: int64"
      ]
     },
     "execution_count": 52,
     "metadata": {},
     "output_type": "execute_result"
    }
   ],
   "source": [
    "df1.isnull().sum()"
   ]
  },
  {
   "cell_type": "code",
   "execution_count": 53,
   "id": "9ced1f2f-ae1b-4036-a5c3-9f4d32d57220",
   "metadata": {},
   "outputs": [],
   "source": [
    "cat=df1[[\"person_home_ownership\",\"loan_intent\",\"loan_grade\",\"cb_person_default_on_file\"]]\n",
    "cont=df1[[\"person_age\",\"person_income\",\"person_emp_length\",\"loan_amnt\",\"loan_int_rate\",\"loan_percent_income\",\"cb_person_cred_hist_length\"]]"
   ]
  },
  {
   "cell_type": "code",
   "execution_count": 54,
   "id": "624d786f-56b3-4219-9bd6-73e4f1c6a27e",
   "metadata": {},
   "outputs": [
    {
     "data": {
      "text/plain": [
       "Index(['person_age', 'person_income', 'person_emp_length', 'loan_amnt',\n",
       "       'loan_int_rate', 'loan_status', 'loan_percent_income',\n",
       "       'cb_person_cred_hist_length', 'person_home_ownership_MORTGAGE',\n",
       "       'person_home_ownership_OTHER', 'person_home_ownership_OWN',\n",
       "       'person_home_ownership_RENT', 'loan_intent_DEBTCONSOLIDATION',\n",
       "       'loan_intent_EDUCATION', 'loan_intent_HOMEIMPROVEMENT',\n",
       "       'loan_intent_MEDICAL', 'loan_intent_PERSONAL', 'loan_intent_VENTURE',\n",
       "       'loan_grade_A', 'loan_grade_B', 'loan_grade_C', 'loan_grade_D',\n",
       "       'loan_grade_E', 'loan_grade_F', 'loan_grade_G',\n",
       "       'cb_person_default_on_file_N', 'cb_person_default_on_file_Y'],\n",
       "      dtype='object')"
      ]
     },
     "execution_count": 54,
     "metadata": {},
     "output_type": "execute_result"
    }
   ],
   "source": [
    "df2=pd.get_dummies(df1,list(cat.columns))\n",
    "df2.columns"
   ]
  },
  {
   "cell_type": "code",
   "execution_count": 55,
   "id": "86a2bf5c-d11a-4a30-b60b-e21293222e4d",
   "metadata": {},
   "outputs": [
    {
     "name": "stdout",
     "output_type": "stream",
     "text": [
      "<class 'pandas.core.frame.DataFrame'>\n",
      "RangeIndex: 32581 entries, 0 to 32580\n",
      "Data columns (total 27 columns):\n",
      " #   Column                          Non-Null Count  Dtype  \n",
      "---  ------                          --------------  -----  \n",
      " 0   person_age                      32581 non-null  int64  \n",
      " 1   person_income                   32581 non-null  int64  \n",
      " 2   person_emp_length               32581 non-null  float64\n",
      " 3   loan_amnt                       32581 non-null  int64  \n",
      " 4   loan_int_rate                   32581 non-null  float64\n",
      " 5   loan_status                     32581 non-null  int64  \n",
      " 6   loan_percent_income             32581 non-null  float64\n",
      " 7   cb_person_cred_hist_length      32581 non-null  int64  \n",
      " 8   person_home_ownership_MORTGAGE  32581 non-null  uint8  \n",
      " 9   person_home_ownership_OTHER     32581 non-null  uint8  \n",
      " 10  person_home_ownership_OWN       32581 non-null  uint8  \n",
      " 11  person_home_ownership_RENT      32581 non-null  uint8  \n",
      " 12  loan_intent_DEBTCONSOLIDATION   32581 non-null  uint8  \n",
      " 13  loan_intent_EDUCATION           32581 non-null  uint8  \n",
      " 14  loan_intent_HOMEIMPROVEMENT     32581 non-null  uint8  \n",
      " 15  loan_intent_MEDICAL             32581 non-null  uint8  \n",
      " 16  loan_intent_PERSONAL            32581 non-null  uint8  \n",
      " 17  loan_intent_VENTURE             32581 non-null  uint8  \n",
      " 18  loan_grade_A                    32581 non-null  uint8  \n",
      " 19  loan_grade_B                    32581 non-null  uint8  \n",
      " 20  loan_grade_C                    32581 non-null  uint8  \n",
      " 21  loan_grade_D                    32581 non-null  uint8  \n",
      " 22  loan_grade_E                    32581 non-null  uint8  \n",
      " 23  loan_grade_F                    32581 non-null  uint8  \n",
      " 24  loan_grade_G                    32581 non-null  uint8  \n",
      " 25  cb_person_default_on_file_N     32581 non-null  uint8  \n",
      " 26  cb_person_default_on_file_Y     32581 non-null  uint8  \n",
      "dtypes: float64(3), int64(5), uint8(19)\n",
      "memory usage: 2.6 MB\n"
     ]
    }
   ],
   "source": [
    "df2.info()"
   ]
  },
  {
   "cell_type": "code",
   "execution_count": 57,
   "id": "b226e9ef-a6a7-47d8-8aca-c36c5b81078a",
   "metadata": {},
   "outputs": [
    {
     "name": "stdout",
     "output_type": "stream",
     "text": [
      "              0         1         2         3         4         5         6\n",
      "0      0.016129  0.009173  1.000000  1.000000  0.595506  0.710843  0.035714\n",
      "1      0.008065  0.000934  0.040650  0.014493  0.321348  0.120482  0.000000\n",
      "2      0.040323  0.000934  0.008130  0.144928  0.418539  0.686747  0.035714\n",
      "3      0.024194  0.010257  0.032520  1.000000  0.551124  0.638554  0.000000\n",
      "4      0.032258  0.008406  0.065041  1.000000  0.497191  0.662651  0.071429\n",
      "...         ...       ...       ...       ...       ...       ...       ...\n",
      "32576  0.298387  0.008172  0.008130  0.153623  0.434831  0.132530  1.000000\n",
      "32577  0.274194  0.019346  0.032520  0.496377  0.116292  0.180723  0.607143\n",
      "32578  0.362903  0.012008  0.024390  1.000000  0.312921  0.554217  0.928571\n",
      "32579  0.290323  0.024350  0.040650  0.420290  0.340449  0.120482  0.857143\n",
      "32580  0.370968  0.006338  0.016260  0.173188  0.256742  0.180723  1.000000\n",
      "\n",
      "[32581 rows x 7 columns]\n"
     ]
    }
   ],
   "source": [
    "from sklearn.preprocessing import MinMaxScaler\n",
    "sc=MinMaxScaler()\n",
    "cont_sc=sc.fit_transform(cont)\n",
    "print(pd.DataFrame(cont_sc))"
   ]
  },
  {
   "cell_type": "code",
   "execution_count": 58,
   "id": "47afa3bc-2b8d-4b2e-94c0-11ee0a4ddc63",
   "metadata": {},
   "outputs": [],
   "source": [
    "df2[\"person_age\"]=pd.DataFrame(cont_sc)[0]"
   ]
  },
  {
   "cell_type": "code",
   "execution_count": 59,
   "id": "67ad1043-ef90-4bdb-ba1b-5a9dbc1920e8",
   "metadata": {},
   "outputs": [],
   "source": [
    "df2[\"person_income\"]=pd.DataFrame(cont_sc)[1]\n",
    "df2[\"person_emp_length\"]=pd.DataFrame(cont_sc)[2]\n",
    "df2[\"loan_amnt\"]=pd.DataFrame(cont_sc)[3]\n",
    "df2[\"loan_int_rate\"]=pd.DataFrame(cont_sc)[4]\n",
    "df2[\"loan_percent_income\"]=pd.DataFrame(cont_sc)[5]\n",
    "df2[\"cb_person_cred_hist_length\"]=pd.DataFrame(cont_sc)[6]"
   ]
  },
  {
   "cell_type": "code",
   "execution_count": 60,
   "id": "2679c28b-24a7-4085-a09a-28c1d9cac842",
   "metadata": {},
   "outputs": [
    {
     "data": {
      "image/png": "[encoded data removed]",
      "text/plain": [
       "<Figure size 1500x600 with 1 Axes>"
      ]
     },
     "metadata": {
      "needs_background": "light"
     },
     "output_type": "display_data"
    }
   ],
   "source": [
    "plt.figure(figsize=(15,6),dpi=100)\n",
    "sns.boxplot(data=df2[[\"person_age\",\"person_income\",\"person_emp_length\",\"loan_amnt\",\"loan_int_rate\",\"loan_percent_income\",\"cb_person_cred_hist_length\"]],orient='h')\n",
    "plt.title(\"Boxplot Showing Outliers\")\n",
    "\n",
    "plt.show()"
   ]
  },
  {
   "cell_type": "code",
   "execution_count": 61,
   "id": "738afb42-7043-4487-a051-6b1c26cdc9f9",
   "metadata": {},
   "outputs": [
    {
     "name": "stdout",
     "output_type": "stream",
     "text": [
      "0.1653225806451613 -0.06048387096774194\n"
     ]
    }
   ],
   "source": [
    "quantile1,quantile3=np.percentile(df2[\"person_age\"],(25,75))\n",
    "iqr=quantile3-quantile1\n",
    "upperbound=quantile3+(1.5*iqr)\n",
    "lowerbound=quantile1-(1.5*iqr)\n",
    "print(upperbound,lowerbound)"
   ]
  },
  {
   "cell_type": "code",
   "execution_count": 62,
   "id": "648e1fc7-27df-463c-a796-3b2cad4f92c6",
   "metadata": {},
   "outputs": [],
   "source": [
    "for i in range(0,len(df2[\"person_age\"])):\n",
    "    if df2.loc[i,\"person_age\"]>upperbound:\n",
    "               df2.loc[i,\"person_age\"]=upperbound\n",
    "    elif df2.loc[i,\"person_age\"]<lowerbound:\n",
    "               df2.loc[i,\"person_age\"]=lowerbound\n",
    "               "
   ]
  },
  {
   "cell_type": "code",
   "execution_count": 63,
   "id": "5994beed-75aa-4e00-9805-e5eed500a525",
   "metadata": {},
   "outputs": [
    {
     "name": "stdout",
     "output_type": "stream",
     "text": [
      "0.022723482321547698 -0.0044279519679786515\n"
     ]
    }
   ],
   "source": [
    "quantile1,quantile3=np.percentile(df2[\"person_income\"],(25,75))\n",
    "iqr=quantile3-quantile1\n",
    "upperbound=quantile3+(1.5*iqr)\n",
    "lowerbound=quantile1-(1.5*iqr)\n",
    "print(upperbound,lowerbound)"
   ]
  },
  {
   "cell_type": "code",
   "execution_count": 64,
   "id": "a659ad1d-57ef-467d-adb3-d6563b02687d",
   "metadata": {},
   "outputs": [],
   "source": [
    "for i in range(0,len(df2[\"person_income\"])):\n",
    "    if df2.loc[i,\"person_income\"]>upperbound:\n",
    "               df2.loc[i,\"person_income\"]=upperbound\n",
    "    elif df2.loc[i,\"person_income\"]<lowerbound:\n",
    "               df2.loc[i,\"person_income\"]=lowerbound"
   ]
  },
  {
   "cell_type": "code",
   "execution_count": 65,
   "id": "a92143d4-46ba-4ae6-85ce-e40262a534aa",
   "metadata": {},
   "outputs": [
    {
     "name": "stdout",
     "output_type": "stream",
     "text": [
      "0.11788617886178862 -0.04471544715447154\n"
     ]
    }
   ],
   "source": [
    "quantile1,quantile3=np.percentile(df2[\"person_emp_length\"],(25,75))\n",
    "iqr=quantile3-quantile1\n",
    "upperbound=quantile3+(1.5*iqr)\n",
    "lowerbound=quantile1-(1.5*iqr)\n",
    "print(upperbound,lowerbound)"
   ]
  },
  {
   "cell_type": "code",
   "execution_count": 66,
   "id": "93dee31b-d0ec-4b74-ab6d-25f7190303b9",
   "metadata": {},
   "outputs": [],
   "source": [
    "for i in range(0,len(df2[\"person_emp_length\"])):\n",
    "    if df2.loc[i,\"person_emp_length\"]>upperbound:\n",
    "               df2.loc[i,\"person_emp_length\"]=upperbound\n",
    "    elif df2.loc[i,\"person_emp_length\"]<lowerbound:\n",
    "               df2.loc[i,\"person_emp_length\"]=lowerbound"
   ]
  },
  {
   "cell_type": "code",
   "execution_count": 67,
   "id": "2f2d082a-3f67-451b-940e-fee53fbab5c5",
   "metadata": {},
   "outputs": [
    {
     "name": "stdout",
     "output_type": "stream",
     "text": [
      "0.6521739130434783 -0.18260869565217389\n"
     ]
    }
   ],
   "source": [
    "quantile1,quantile3=np.percentile(df2[\"loan_amnt\"],(25,75))\n",
    "iqr=quantile3-quantile1\n",
    "upperbound=quantile3+(1.5*iqr)\n",
    "lowerbound=quantile1-(1.5*iqr)\n",
    "print(upperbound,lowerbound)"
   ]
  },
  {
   "cell_type": "code",
   "execution_count": 68,
   "id": "9d750b10-532c-462a-8b72-e66c6633ff6a",
   "metadata": {},
   "outputs": [],
   "source": [
    "for i in range(0,len(df2[\"loan_amnt\"])):\n",
    "    if df2.loc[i,\"loan_amnt\"]>upperbound:\n",
    "               df2.loc[i,\"loan_amnt\"]=upperbound\n",
    "    elif df2.loc[i,\"loan_amnt\"]<lowerbound:\n",
    "               df2.loc[i,\"loan_amnt\"]=lowerbound"
   ]
  },
  {
   "cell_type": "code",
   "execution_count": 69,
   "id": "b5ba2cce-9146-4ae1-bc3d-a5bd36e78a56",
   "metadata": {},
   "outputs": [
    {
     "name": "stdout",
     "output_type": "stream",
     "text": [
      "0.8213483146067415 -0.21685393258426955\n"
     ]
    }
   ],
   "source": [
    "quantile1,quantile3=np.percentile(df2[\"loan_int_rate\"],(25,75))\n",
    "iqr=quantile3-quantile1\n",
    "upperbound=quantile3+(1.5*iqr)\n",
    "lowerbound=quantile1-(1.5*iqr)\n",
    "print(upperbound,lowerbound)"
   ]
  },
  {
   "cell_type": "code",
   "execution_count": 70,
   "id": "3d8720ec-7336-4745-9a5c-66051650a5ed",
   "metadata": {},
   "outputs": [],
   "source": [
    "for i in range(0,len(df2[\"loan_int_rate\"])):\n",
    "    if df2.loc[i,\"loan_int_rate\"]>upperbound:\n",
    "               df2.loc[i,\"loan_int_rate\"]=upperbound\n",
    "    elif df2.loc[i,\"loan_int_rate\"]<lowerbound:\n",
    "               df2.loc[i,\"loan_int_rate\"]=lowerbound"
   ]
  },
  {
   "cell_type": "code",
   "execution_count": 71,
   "id": "a82f8a2d-455f-4d3e-8483-49b033c815ae",
   "metadata": {},
   "outputs": [
    {
     "name": "stdout",
     "output_type": "stream",
     "text": [
      "0.530120481927711 -0.14457831325301207\n"
     ]
    }
   ],
   "source": [
    "quantile1,quantile3=np.percentile(df2[\"loan_percent_income\"],(25,75))\n",
    "iqr=quantile3-quantile1\n",
    "upperbound=quantile3+(1.5*iqr)\n",
    "lowerbound=quantile1-(1.5*iqr)\n",
    "print(upperbound,lowerbound)"
   ]
  },
  {
   "cell_type": "code",
   "execution_count": 72,
   "id": "fd42f25c-3fa1-423f-a063-87ffb857fa04",
   "metadata": {},
   "outputs": [],
   "source": [
    "for i in range(0,len(df2[\"loan_percent_income\"])):\n",
    "    if df2.loc[i,\"loan_percent_income\"]>upperbound:\n",
    "               df2.loc[i,\"loan_percent_income\"]=upperbound\n",
    "    elif df2.loc[i,\"loan_percent_income\"]<lowerbound:\n",
    "               df2.loc[i,\"loan_percent_income\"]=lowerbound"
   ]
  },
  {
   "cell_type": "code",
   "execution_count": 73,
   "id": "c39dc8da-94d6-4c8b-8607-28542f606343",
   "metadata": {},
   "outputs": [
    {
     "name": "stdout",
     "output_type": "stream",
     "text": [
      "0.4821428571428571 -0.2321428571428571\n"
     ]
    }
   ],
   "source": [
    "quantile1,quantile3=np.percentile(df2[\"cb_person_cred_hist_length\"],(25,75))\n",
    "iqr=quantile3-quantile1\n",
    "upperbound=quantile3+(1.5*iqr)\n",
    "lowerbound=quantile1-(1.5*iqr)\n",
    "print(upperbound,lowerbound)"
   ]
  },
  {
   "cell_type": "code",
   "execution_count": 74,
   "id": "8e12af65-bdd8-4809-90d7-12921a2d2b86",
   "metadata": {},
   "outputs": [],
   "source": [
    "for i in range(0,len(df2[\"cb_person_cred_hist_length\"])):\n",
    "    if df2.loc[i,\"cb_person_cred_hist_length\"]>upperbound:\n",
    "               df2.loc[i,\"cb_person_cred_hist_length\"]=upperbound\n",
    "    elif df2.loc[i,\"cb_person_cred_hist_length\"]<lowerbound:\n",
    "               df2.loc[i,\"cb_person_cred_hist_length\"]=lowerbound"
   ]
  },
  {
   "cell_type": "code",
   "execution_count": 75,
   "id": "8ba2dbec-00e0-4de1-9d2d-d1c593f5864e",
   "metadata": {},
   "outputs": [
    {
     "data": {
      "image/png": "[encoded data removed]",
      "text/plain": [
       "<Figure size 1200x640 with 1 Axes>"
      ]
     },
     "metadata": {
      "needs_background": "light"
     },
     "output_type": "display_data"
    }
   ],
   "source": [
    "plt.figure(figsize=(15,8),dpi=80)\n",
    "sns.boxplot(data=df2[[\"person_age\",\"person_income\",\"person_emp_length\",\"loan_amnt\",\"loan_int_rate\",\"loan_percent_income\",\"cb_person_cred_hist_length\"]],orient='h')\n",
    "\n",
    "plt.show()"
   ]
  },
  {
   "cell_type": "code",
   "execution_count": 76,
   "id": "8a6fc630-302e-473e-9332-b112220e8a66",
   "metadata": {},
   "outputs": [],
   "source": [
    "from scipy.stats import chi2_contingency"
   ]
  },
  {
   "cell_type": "code",
   "execution_count": 77,
   "id": "1dadb6d7-6453-48cb-96c9-fbf65b035a58",
   "metadata": {},
   "outputs": [],
   "source": [
    "df2.drop(['person_home_ownership_OTHER','person_home_ownership_OWN','person_home_ownership_RENT','loan_intent_EDUCATION','loan_intent_HOMEIMPROVEMENT','loan_intent_MEDICAL','loan_intent_PERSONAL','loan_intent_VENTURE','loan_grade_B','loan_grade_C','loan_grade_D','loan_grade_E','loan_grade_F','loan_grade_G','cb_person_default_on_file_Y'],axis=1, inplace=True)"
   ]
  },
  {
   "cell_type": "code",
   "execution_count": 78,
   "id": "336bbead-c30d-4883-b86d-a95e26a3a362",
   "metadata": {},
   "outputs": [
    {
     "data": {
      "text/plain": [
       "Index(['person_age', 'person_income', 'person_emp_length', 'loan_amnt',\n",
       "       'loan_int_rate', 'loan_status', 'loan_percent_income',\n",
       "       'cb_person_cred_hist_length', 'person_home_ownership_MORTGAGE',\n",
       "       'loan_intent_DEBTCONSOLIDATION', 'loan_grade_A',\n",
       "       'cb_person_default_on_file_N'],\n",
       "      dtype='object')"
      ]
     },
     "execution_count": 78,
     "metadata": {},
     "output_type": "execute_result"
    }
   ],
   "source": [
    "df2.columns"
   ]
  },
  {
   "cell_type": "code",
   "execution_count": 79,
   "id": "b8f3f8f6-b84e-4f30-b4b7-02b4cbe01010",
   "metadata": {},
   "outputs": [],
   "source": [
    "categ=list(df2.columns[8:])"
   ]
  },
  {
   "cell_type": "code",
   "execution_count": 80,
   "id": "8dbccfb8-96bf-42a3-ae08-f3a8f52ad44f",
   "metadata": {},
   "outputs": [
    {
     "data": {
      "text/plain": [
       "['person_home_ownership_MORTGAGE',\n",
       " 'loan_intent_DEBTCONSOLIDATION',\n",
       " 'loan_grade_A',\n",
       " 'cb_person_default_on_file_N']"
      ]
     },
     "execution_count": 80,
     "metadata": {},
     "output_type": "execute_result"
    }
   ],
   "source": [
    "categ"
   ]
  },
  {
   "cell_type": "code",
   "execution_count": 81,
   "id": "b1a05ebd-61f9-4a7e-8a71-151bb8986b3a",
   "metadata": {},
   "outputs": [
    {
     "name": "stdout",
     "output_type": "stream",
     "text": [
      "['person_home_ownership_MORTGAGE', 'loan_intent_DEBTCONSOLIDATION', 'loan_grade_A', 'cb_person_default_on_file_N']\n"
     ]
    }
   ],
   "source": [
    "l1=[]\n",
    "for pred in categ:\n",
    "    Crosstab=pd.crosstab(index=df2[\"loan_status\"],columns=df2[pred])\n",
    "    Chi2result=chi2_contingency(Crosstab)\n",
    "    if Chi2result[1] < 0.05:\n",
    "        l1.append(pred)\n",
    "        \n",
    "print(l1)\n",
    "    "
   ]
  },
  {
   "cell_type": "code",
   "execution_count": 82,
   "id": "71d44789-7cc0-49ea-ad74-3312f1e00891",
   "metadata": {},
   "outputs": [
    {
     "data": {
      "text/plain": [
       "Index(['person_age', 'person_income', 'person_emp_length', 'loan_amnt',\n",
       "       'loan_int_rate', 'loan_status', 'loan_percent_income',\n",
       "       'cb_person_cred_hist_length', 'person_home_ownership_MORTGAGE',\n",
       "       'loan_intent_DEBTCONSOLIDATION', 'loan_grade_A',\n",
       "       'cb_person_default_on_file_N'],\n",
       "      dtype='object')"
      ]
     },
     "execution_count": 82,
     "metadata": {},
     "output_type": "execute_result"
    }
   ],
   "source": [
    "df2.columns"
   ]
  },
  {
   "cell_type": "code",
   "execution_count": 83,
   "id": "2708da40-3d0c-4935-be2f-1d74b505e9ac",
   "metadata": {},
   "outputs": [],
   "source": [
    "from scipy.stats import f_oneway"
   ]
  },
  {
   "cell_type": "code",
   "execution_count": 84,
   "id": "31dba12b-52e6-4293-b73f-77b589526a9d",
   "metadata": {},
   "outputs": [],
   "source": [
    "cont=df2[[\"person_age\",\"person_income\",\"person_emp_length\",\"loan_amnt\",\"loan_int_rate\",'loan_percent_income','cb_person_cred_hist_length']]"
   ]
  },
  {
   "cell_type": "code",
   "execution_count": 85,
   "id": "406f496d-ee6d-415c-a42a-ff1ace77a8ea",
   "metadata": {},
   "outputs": [
    {
     "data": {
      "text/plain": [
       "['person_age',\n",
       " 'person_income',\n",
       " 'person_emp_length',\n",
       " 'loan_amnt',\n",
       " 'loan_int_rate',\n",
       " 'loan_percent_income',\n",
       " 'cb_person_cred_hist_length']"
      ]
     },
     "execution_count": 85,
     "metadata": {},
     "output_type": "execute_result"
    }
   ],
   "source": [
    "list(cont.columns)"
   ]
  },
  {
   "cell_type": "code",
   "execution_count": 86,
   "id": "24bf8a66-b348-420a-b12d-06df79f1ff35",
   "metadata": {},
   "outputs": [
    {
     "name": "stdout",
     "output_type": "stream",
     "text": [
      "['person_age', 'person_income', 'person_emp_length', 'loan_amnt', 'loan_int_rate', 'loan_percent_income', 'cb_person_cred_hist_length']\n"
     ]
    }
   ],
   "source": [
    "l2=[]\n",
    "for pred in list(cont.columns):\n",
    "    lists=df2.groupby(\"loan_status\")[pred].apply(list)\n",
    "    AnovaResult=f_oneway(*lists)\n",
    "    if AnovaResult[1]<0.05:\n",
    "        l2.append(pred)\n",
    "        \n",
    "print(l2)"
   ]
  },
  {
   "cell_type": "code",
   "execution_count": 87,
   "id": "f214b4d6-2e32-4d9c-b86c-8cf8175b0577",
   "metadata": {},
   "outputs": [
    {
     "name": "stdout",
     "output_type": "stream",
     "text": [
      "['person_home_ownership_MORTGAGE', 'loan_intent_DEBTCONSOLIDATION', 'loan_grade_A', 'cb_person_default_on_file_N', 'person_age', 'person_income', 'person_emp_length', 'loan_amnt', 'loan_int_rate', 'loan_percent_income', 'cb_person_cred_hist_length']\n"
     ]
    }
   ],
   "source": [
    "l1.extend(l2)\n",
    "print(l1)"
   ]
  },
  {
   "cell_type": "code",
   "execution_count": 88,
   "id": "d802b14f-10d8-4c1a-9b26-1e005e437785",
   "metadata": {},
   "outputs": [
    {
     "data": {
      "text/plain": [
       "11"
      ]
     },
     "execution_count": 88,
     "metadata": {},
     "output_type": "execute_result"
    }
   ],
   "source": [
    "len(l1)"
   ]
  },
  {
   "cell_type": "code",
   "execution_count": 89,
   "id": "8006fd92-e469-412b-aa8d-28938ff3a91b",
   "metadata": {},
   "outputs": [],
   "source": [
    "x=df2[l1]"
   ]
  },
  {
   "cell_type": "code",
   "execution_count": 90,
   "id": "b8b26344-15c3-4cd4-b39a-ecf12f3e371a",
   "metadata": {},
   "outputs": [],
   "source": [
    "y=df2[[\"loan_status\"]]"
   ]
  },
  {
   "cell_type": "code",
   "execution_count": 91,
   "id": "e3e7e65a-84d5-4826-a8c7-5cf7e76f54bc",
   "metadata": {},
   "outputs": [],
   "source": [
    "from sklearn.linear_model import LogisticRegression\n",
    "from sklearn import metrics"
   ]
  },
  {
   "cell_type": "code",
   "execution_count": 92,
   "id": "0f94ba10-f110-481c-b0ad-9f3a7e5a6a71",
   "metadata": {},
   "outputs": [],
   "source": [
    "from sklearn.model_selection import train_test_split\n",
    "x_train,x_test,y_train,y_test=train_test_split(x,y,train_size=0.7,random_state=20,stratify=y)"
   ]
  },
  {
   "cell_type": "code",
   "execution_count": 93,
   "id": "314ce745-1a74-4587-b702-7fdca69d19c2",
   "metadata": {},
   "outputs": [
    {
     "data": {
      "text/html": [
       "<div>\n",
       "<style scoped>\n",
       "    .dataframe tbody tr th:only-of-type {\n",
       "        vertical-align: middle;\n",
       "    }\n",
       "\n",
       "    .dataframe tbody tr th {\n",
       "        vertical-align: top;\n",
       "    }\n",
       "\n",
       "    .dataframe thead th {\n",
       "        text-align: right;\n",
       "    }\n",
       "</style>\n",
       "<table border=\"1\" class=\"dataframe\">\n",
       "  <thead>\n",
       "    <tr style=\"text-align: right;\">\n",
       "      <th></th>\n",
       "      <th>person_home_ownership_MORTGAGE</th>\n",
       "      <th>loan_intent_DEBTCONSOLIDATION</th>\n",
       "      <th>loan_grade_A</th>\n",
       "      <th>cb_person_default_on_file_N</th>\n",
       "      <th>person_age</th>\n",
       "      <th>person_income</th>\n",
       "      <th>person_emp_length</th>\n",
       "      <th>loan_amnt</th>\n",
       "      <th>loan_int_rate</th>\n",
       "      <th>loan_percent_income</th>\n",
       "      <th>cb_person_cred_hist_length</th>\n",
       "    </tr>\n",
       "  </thead>\n",
       "  <tbody>\n",
       "    <tr>\n",
       "      <th>5780</th>\n",
       "      <td>1</td>\n",
       "      <td>0</td>\n",
       "      <td>0</td>\n",
       "      <td>1</td>\n",
       "      <td>0.016129</td>\n",
       "      <td>0.007088</td>\n",
       "      <td>0.008130</td>\n",
       "      <td>0.101449</td>\n",
       "      <td>0.292135</td>\n",
       "      <td>0.108434</td>\n",
       "      <td>0.035714</td>\n",
       "    </tr>\n",
       "    <tr>\n",
       "      <th>3743</th>\n",
       "      <td>0</td>\n",
       "      <td>0</td>\n",
       "      <td>0</td>\n",
       "      <td>1</td>\n",
       "      <td>0.016129</td>\n",
       "      <td>0.003536</td>\n",
       "      <td>0.008130</td>\n",
       "      <td>0.101449</td>\n",
       "      <td>0.325700</td>\n",
       "      <td>0.192771</td>\n",
       "      <td>0.000000</td>\n",
       "    </tr>\n",
       "    <tr>\n",
       "      <th>4128</th>\n",
       "      <td>0</td>\n",
       "      <td>1</td>\n",
       "      <td>0</td>\n",
       "      <td>1</td>\n",
       "      <td>0.048387</td>\n",
       "      <td>0.001835</td>\n",
       "      <td>0.000000</td>\n",
       "      <td>0.112319</td>\n",
       "      <td>0.408427</td>\n",
       "      <td>0.349398</td>\n",
       "      <td>0.071429</td>\n",
       "    </tr>\n",
       "    <tr>\n",
       "      <th>3742</th>\n",
       "      <td>1</td>\n",
       "      <td>0</td>\n",
       "      <td>0</td>\n",
       "      <td>0</td>\n",
       "      <td>0.016129</td>\n",
       "      <td>0.004705</td>\n",
       "      <td>0.024390</td>\n",
       "      <td>0.217391</td>\n",
       "      <td>0.452247</td>\n",
       "      <td>0.301205</td>\n",
       "      <td>0.071429</td>\n",
       "    </tr>\n",
       "    <tr>\n",
       "      <th>18894</th>\n",
       "      <td>0</td>\n",
       "      <td>0</td>\n",
       "      <td>0</td>\n",
       "      <td>1</td>\n",
       "      <td>0.072581</td>\n",
       "      <td>0.002335</td>\n",
       "      <td>0.024390</td>\n",
       "      <td>0.034783</td>\n",
       "      <td>0.320225</td>\n",
       "      <td>0.108434</td>\n",
       "      <td>0.285714</td>\n",
       "    </tr>\n",
       "    <tr>\n",
       "      <th>...</th>\n",
       "      <td>...</td>\n",
       "      <td>...</td>\n",
       "      <td>...</td>\n",
       "      <td>...</td>\n",
       "      <td>...</td>\n",
       "      <td>...</td>\n",
       "      <td>...</td>\n",
       "      <td>...</td>\n",
       "      <td>...</td>\n",
       "      <td>...</td>\n",
       "      <td>...</td>\n",
       "    </tr>\n",
       "    <tr>\n",
       "      <th>23869</th>\n",
       "      <td>1</td>\n",
       "      <td>0</td>\n",
       "      <td>1</td>\n",
       "      <td>1</td>\n",
       "      <td>0.120968</td>\n",
       "      <td>0.010434</td>\n",
       "      <td>0.089431</td>\n",
       "      <td>0.107246</td>\n",
       "      <td>0.020787</td>\n",
       "      <td>0.072289</td>\n",
       "      <td>0.285714</td>\n",
       "    </tr>\n",
       "    <tr>\n",
       "      <th>27798</th>\n",
       "      <td>0</td>\n",
       "      <td>0</td>\n",
       "      <td>0</td>\n",
       "      <td>1</td>\n",
       "      <td>0.096774</td>\n",
       "      <td>0.022723</td>\n",
       "      <td>0.117886</td>\n",
       "      <td>0.449275</td>\n",
       "      <td>0.243820</td>\n",
       "      <td>0.036145</td>\n",
       "      <td>0.107143</td>\n",
       "    </tr>\n",
       "    <tr>\n",
       "      <th>28383</th>\n",
       "      <td>1</td>\n",
       "      <td>0</td>\n",
       "      <td>0</td>\n",
       "      <td>0</td>\n",
       "      <td>0.064516</td>\n",
       "      <td>0.021187</td>\n",
       "      <td>0.000000</td>\n",
       "      <td>0.275362</td>\n",
       "      <td>0.445506</td>\n",
       "      <td>0.096386</td>\n",
       "      <td>0.178571</td>\n",
       "    </tr>\n",
       "    <tr>\n",
       "      <th>22639</th>\n",
       "      <td>1</td>\n",
       "      <td>0</td>\n",
       "      <td>1</td>\n",
       "      <td>1</td>\n",
       "      <td>0.072581</td>\n",
       "      <td>0.008756</td>\n",
       "      <td>0.105691</td>\n",
       "      <td>0.413043</td>\n",
       "      <td>0.325700</td>\n",
       "      <td>0.313253</td>\n",
       "      <td>0.214286</td>\n",
       "    </tr>\n",
       "    <tr>\n",
       "      <th>14168</th>\n",
       "      <td>0</td>\n",
       "      <td>0</td>\n",
       "      <td>0</td>\n",
       "      <td>1</td>\n",
       "      <td>0.040323</td>\n",
       "      <td>0.016011</td>\n",
       "      <td>0.032520</td>\n",
       "      <td>0.420290</td>\n",
       "      <td>0.329213</td>\n",
       "      <td>0.180723</td>\n",
       "      <td>0.071429</td>\n",
       "    </tr>\n",
       "  </tbody>\n",
       "</table>\n",
       "<p>22806 rows × 11 columns</p>\n",
       "</div>"
      ],
      "text/plain": [
       "       person_home_ownership_MORTGAGE  loan_intent_DEBTCONSOLIDATION  \\\n",
       "5780                                1                              0   \n",
       "3743                                0                              0   \n",
       "4128                                0                              1   \n",
       "3742                                1                              0   \n",
       "18894                               0                              0   \n",
       "...                               ...                            ...   \n",
       "23869                               1                              0   \n",
       "27798                               0                              0   \n",
       "28383                               1                              0   \n",
       "22639                               1                              0   \n",
       "14168                               0                              0   \n",
       "\n",
       "       loan_grade_A  cb_person_default_on_file_N  person_age  person_income  \\\n",
       "5780              0                            1    0.016129       0.007088   \n",
       "3743              0                            1    0.016129       0.003536   \n",
       "4128              0                            1    0.048387       0.001835   \n",
       "3742              0                            0    0.016129       0.004705   \n",
       "18894             0                            1    0.072581       0.002335   \n",
       "...             ...                          ...         ...            ...   \n",
       "23869             1                            1    0.120968       0.010434   \n",
       "27798             0                            1    0.096774       0.022723   \n",
       "28383             0                            0    0.064516       0.021187   \n",
       "22639             1                            1    0.072581       0.008756   \n",
       "14168             0                            1    0.040323       0.016011   \n",
       "\n",
       "       person_emp_length  loan_amnt  loan_int_rate  loan_percent_income  \\\n",
       "5780            0.008130   0.101449       0.292135             0.108434   \n",
       "3743            0.008130   0.101449       0.325700             0.192771   \n",
       "4128            0.000000   0.112319       0.408427             0.349398   \n",
       "3742            0.024390   0.217391       0.452247             0.301205   \n",
       "18894           0.024390   0.034783       0.320225             0.108434   \n",
       "...                  ...        ...            ...                  ...   \n",
       "23869           0.089431   0.107246       0.020787             0.072289   \n",
       "27798           0.117886   0.449275       0.243820             0.036145   \n",
       "28383           0.000000   0.275362       0.445506             0.096386   \n",
       "22639           0.105691   0.413043       0.325700             0.313253   \n",
       "14168           0.032520   0.420290       0.329213             0.180723   \n",
       "\n",
       "       cb_person_cred_hist_length  \n",
       "5780                     0.035714  \n",
       "3743                     0.000000  \n",
       "4128                     0.071429  \n",
       "3742                     0.071429  \n",
       "18894                    0.285714  \n",
       "...                           ...  \n",
       "23869                    0.285714  \n",
       "27798                    0.107143  \n",
       "28383                    0.178571  \n",
       "22639                    0.214286  \n",
       "14168                    0.071429  \n",
       "\n",
       "[22806 rows x 11 columns]"
      ]
     },
     "execution_count": 93,
     "metadata": {},
     "output_type": "execute_result"
    }
   ],
   "source": [
    "x_train"
   ]
  },
  {
   "cell_type": "code",
   "execution_count": 94,
   "id": "7567026d-16ff-4593-97ce-1397e0eba970",
   "metadata": {},
   "outputs": [],
   "source": [
    "lr=LogisticRegression(random_state=0,max_iter=1000000,fit_intercept=True)"
   ]
  },
  {
   "cell_type": "code",
   "execution_count": 95,
   "id": "611171d9-fcec-4cb9-818a-b41b40a8423f",
   "metadata": {},
   "outputs": [
    {
     "data": {
      "text/html": [
       "<style>#sk-container-id-1 {color: black;background-color: white;}#sk-container-id-1 pre{padding: 0;}#sk-container-id-1 div.sk-toggleable {background-color: white;}#sk-container-id-1 label.sk-toggleable__label {cursor: pointer;display: block;width: 100%;margin-bottom: 0;padding: 0.3em;box-sizing: border-box;text-align: center;}#sk-container-id-1 label.sk-toggleable__label-arrow:before {content: \"▸\";float: left;margin-right: 0.25em;color: #696969;}#sk-container-id-1 label.sk-toggleable__label-arrow:hover:before {color: black;}#sk-container-id-1 div.sk-estimator:hover label.sk-toggleable__label-arrow:before {color: black;}#sk-container-id-1 div.sk-toggleable__content {max-height: 0;max-width: 0;overflow: hidden;text-align: left;background-color: #f0f8ff;}#sk-container-id-1 div.sk-toggleable__content pre {margin: 0.2em;color: black;border-radius: 0.25em;background-color: #f0f8ff;}#sk-container-id-1 input.sk-toggleable__control:checked~div.sk-toggleable__content {max-height: 200px;max-width: 100%;overflow: auto;}#sk-container-id-1 input.sk-toggleable__control:checked~label.sk-toggleable__label-arrow:before {content: \"▾\";}#sk-container-id-1 div.sk-estimator input.sk-toggleable__control:checked~label.sk-toggleable__label {background-color: #d4ebff;}#sk-container-id-1 div.sk-label input.sk-toggleable__control:checked~label.sk-toggleable__label {background-color: #d4ebff;}#sk-container-id-1 input.sk-hidden--visually {border: 0;clip: rect(1px 1px 1px 1px);clip: rect(1px, 1px, 1px, 1px);height: 1px;margin: -1px;overflow: hidden;padding: 0;position: absolute;width: 1px;}#sk-container-id-1 div.sk-estimator {font-family: monospace;background-color: #f0f8ff;border: 1px dotted black;border-radius: 0.25em;box-sizing: border-box;margin-bottom: 0.5em;}#sk-container-id-1 div.sk-estimator:hover {background-color: #d4ebff;}#sk-container-id-1 div.sk-parallel-item::after {content: \"\";width: 100%;border-bottom: 1px solid gray;flex-grow: 1;}#sk-container-id-1 div.sk-label:hover label.sk-toggleable__label {background-color: #d4ebff;}#sk-container-id-1 div.sk-serial::before {content: \"\";position: absolute;border-left: 1px solid gray;box-sizing: border-box;top: 0;bottom: 0;left: 50%;z-index: 0;}#sk-container-id-1 div.sk-serial {display: flex;flex-direction: column;align-items: center;background-color: white;padding-right: 0.2em;padding-left: 0.2em;position: relative;}#sk-container-id-1 div.sk-item {position: relative;z-index: 1;}#sk-container-id-1 div.sk-parallel {display: flex;align-items: stretch;justify-content: center;background-color: white;position: relative;}#sk-container-id-1 div.sk-item::before, #sk-container-id-1 div.sk-parallel-item::before {content: \"\";position: absolute;border-left: 1px solid gray;box-sizing: border-box;top: 0;bottom: 0;left: 50%;z-index: -1;}#sk-container-id-1 div.sk-parallel-item {display: flex;flex-direction: column;z-index: 1;position: relative;background-color: white;}#sk-container-id-1 div.sk-parallel-item:first-child::after {align-self: flex-end;width: 50%;}#sk-container-id-1 div.sk-parallel-item:last-child::after {align-self: flex-start;width: 50%;}#sk-container-id-1 div.sk-parallel-item:only-child::after {width: 0;}#sk-container-id-1 div.sk-dashed-wrapped {border: 1px dashed gray;margin: 0 0.4em 0.5em 0.4em;box-sizing: border-box;padding-bottom: 0.4em;background-color: white;}#sk-container-id-1 div.sk-label label {font-family: monospace;font-weight: bold;display: inline-block;line-height: 1.2em;}#sk-container-id-1 div.sk-label-container {text-align: center;}#sk-container-id-1 div.sk-container {/* jupyter's `normalize.less` sets `[hidden] { display: none; }` but bootstrap.min.css set `[hidden] { display: none !important; }` so we also need the `!important` here to be able to override the default hidden behavior on the sphinx rendered scikit-learn.org. See: https://github.com/scikit-learn/scikit-learn/issues/21755 */display: inline-block !important;position: relative;}#sk-container-id-1 div.sk-text-repr-fallback {display: none;}</style><div id=\"sk-container-id-1\" class=\"sk-top-container\"><div class=\"sk-text-repr-fallback\"><pre>LogisticRegression(max_iter=1000000, random_state=0)</pre><b>In a Jupyter environment, please rerun this cell to show the HTML representation or trust the notebook. <br />On GitHub, the HTML representation is unable to render, please try loading this page with nbviewer.org.</b></div><div class=\"sk-container\" hidden><div class=\"sk-item\"><div class=\"sk-estimator sk-toggleable\"><input class=\"sk-toggleable__control sk-hidden--visually\" id=\"sk-estimator-id-1\" type=\"checkbox\" checked><label for=\"sk-estimator-id-1\" class=\"sk-toggleable__label sk-toggleable__label-arrow\">LogisticRegression</label><div class=\"sk-toggleable__content\"><pre>LogisticRegression(max_iter=1000000, random_state=0)</pre></div></div></div></div></div>"
      ],
      "text/plain": [
       "LogisticRegression(max_iter=1000000, random_state=0)"
      ]
     },
     "execution_count": 95,
     "metadata": {},
     "output_type": "execute_result"
    }
   ],
   "source": [
    "lr.fit(x_train,y_train.values.ravel())"
   ]
  },
  {
   "cell_type": "code",
   "execution_count": 96,
   "id": "cd790406-b7df-4eb4-939d-e073871da3e5",
   "metadata": {},
   "outputs": [],
   "source": [
    "y_pred=lr.predict(x_test)"
   ]
  },
  {
   "cell_type": "code",
   "execution_count": 97,
   "id": "9e87d309-b232-4ad5-91df-2c986d4088a2",
   "metadata": {},
   "outputs": [
    {
     "data": {
      "text/plain": [
       "0    7642\n",
       "1    2133\n",
       "Name: loan_status, dtype: int64"
      ]
     },
     "execution_count": 97,
     "metadata": {},
     "output_type": "execute_result"
    }
   ],
   "source": [
    "y_test[\"loan_status\"].value_counts()"
   ]
  },
  {
   "cell_type": "code",
   "execution_count": 98,
   "id": "be6b4c9b-b5b4-47e6-9bc1-addfd5fe83c3",
   "metadata": {},
   "outputs": [
    {
     "data": {
      "text/plain": [
       "0    17831\n",
       "1     4975\n",
       "Name: loan_status, dtype: int64"
      ]
     },
     "execution_count": 98,
     "metadata": {},
     "output_type": "execute_result"
    }
   ],
   "source": [
    "y_train[\"loan_status\"].value_counts()"
   ]
  },
  {
   "cell_type": "code",
   "execution_count": 99,
   "id": "3979eb2a-4be2-4c6f-9171-d263a51f2394",
   "metadata": {},
   "outputs": [],
   "source": [
    "from sklearn.metrics import confusion_matrix,classification_report"
   ]
  },
  {
   "cell_type": "code",
   "execution_count": 100,
   "id": "89bbecd7-7768-4e5c-8176-334429f5f223",
   "metadata": {},
   "outputs": [
    {
     "data": {
      "image/png": "[encoded data removed]",
      "text/plain": [
       "<Figure size 1080x360 with 2 Axes>"
      ]
     },
     "metadata": {
      "needs_background": "light"
     },
     "output_type": "display_data"
    },
    {
     "name": "stdout",
     "output_type": "stream",
     "text": [
      "              precision    recall  f1-score   support\n",
      "\n",
      "           0       0.85      0.95      0.90      7642\n",
      "           1       0.69      0.41      0.52      2133\n",
      "\n",
      "    accuracy                           0.83      9775\n",
      "   macro avg       0.77      0.68      0.71      9775\n",
      "weighted avg       0.82      0.83      0.82      9775\n",
      "\n"
     ]
    }
   ],
   "source": [
    "plt.figure(figsize=(15,5))\n",
    "sns.heatmap(confusion_matrix(y_test.values,y_pred),annot=True,cmap=\"YlOrBr\",fmt='d')\n",
    "plt.show()\n",
    "print(classification_report(y_test.values,y_pred))"
   ]
  },
  {
   "cell_type": "code",
   "execution_count": 101,
   "id": "c83a0a4c-0036-4ce6-a346-71add12ee36a",
   "metadata": {},
   "outputs": [],
   "source": [
    "from sklearn.ensemble import RandomForestClassifier\n",
    "clf=RandomForestClassifier(n_estimators=100,random_state=0)"
   ]
  },
  {
   "cell_type": "code",
   "execution_count": 102,
   "id": "a2b451ee-8a3e-4dde-9eb3-c4c2cf2471ac",
   "metadata": {},
   "outputs": [
    {
     "data": {
      "text/html": [
       "<style>#sk-container-id-2 {color: black;background-color: white;}#sk-container-id-2 pre{padding: 0;}#sk-container-id-2 div.sk-toggleable {background-color: white;}#sk-container-id-2 label.sk-toggleable__label {cursor: pointer;display: block;width: 100%;margin-bottom: 0;padding: 0.3em;box-sizing: border-box;text-align: center;}#sk-container-id-2 label.sk-toggleable__label-arrow:before {content: \"▸\";float: left;margin-right: 0.25em;color: #696969;}#sk-container-id-2 label.sk-toggleable__label-arrow:hover:before {color: black;}#sk-container-id-2 div.sk-estimator:hover label.sk-toggleable__label-arrow:before {color: black;}#sk-container-id-2 div.sk-toggleable__content {max-height: 0;max-width: 0;overflow: hidden;text-align: left;background-color: #f0f8ff;}#sk-container-id-2 div.sk-toggleable__content pre {margin: 0.2em;color: black;border-radius: 0.25em;background-color: #f0f8ff;}#sk-container-id-2 input.sk-toggleable__control:checked~div.sk-toggleable__content {max-height: 200px;max-width: 100%;overflow: auto;}#sk-container-id-2 input.sk-toggleable__control:checked~label.sk-toggleable__label-arrow:before {content: \"▾\";}#sk-container-id-2 div.sk-estimator input.sk-toggleable__control:checked~label.sk-toggleable__label {background-color: #d4ebff;}#sk-container-id-2 div.sk-label input.sk-toggleable__control:checked~label.sk-toggleable__label {background-color: #d4ebff;}#sk-container-id-2 input.sk-hidden--visually {border: 0;clip: rect(1px 1px 1px 1px);clip: rect(1px, 1px, 1px, 1px);height: 1px;margin: -1px;overflow: hidden;padding: 0;position: absolute;width: 1px;}#sk-container-id-2 div.sk-estimator {font-family: monospace;background-color: #f0f8ff;border: 1px dotted black;border-radius: 0.25em;box-sizing: border-box;margin-bottom: 0.5em;}#sk-container-id-2 div.sk-estimator:hover {background-color: #d4ebff;}#sk-container-id-2 div.sk-parallel-item::after {content: \"\";width: 100%;border-bottom: 1px solid gray;flex-grow: 1;}#sk-container-id-2 div.sk-label:hover label.sk-toggleable__label {background-color: #d4ebff;}#sk-container-id-2 div.sk-serial::before {content: \"\";position: absolute;border-left: 1px solid gray;box-sizing: border-box;top: 0;bottom: 0;left: 50%;z-index: 0;}#sk-container-id-2 div.sk-serial {display: flex;flex-direction: column;align-items: center;background-color: white;padding-right: 0.2em;padding-left: 0.2em;position: relative;}#sk-container-id-2 div.sk-item {position: relative;z-index: 1;}#sk-container-id-2 div.sk-parallel {display: flex;align-items: stretch;justify-content: center;background-color: white;position: relative;}#sk-container-id-2 div.sk-item::before, #sk-container-id-2 div.sk-parallel-item::before {content: \"\";position: absolute;border-left: 1px solid gray;box-sizing: border-box;top: 0;bottom: 0;left: 50%;z-index: -1;}#sk-container-id-2 div.sk-parallel-item {display: flex;flex-direction: column;z-index: 1;position: relative;background-color: white;}#sk-container-id-2 div.sk-parallel-item:first-child::after {align-self: flex-end;width: 50%;}#sk-container-id-2 div.sk-parallel-item:last-child::after {align-self: flex-start;width: 50%;}#sk-container-id-2 div.sk-parallel-item:only-child::after {width: 0;}#sk-container-id-2 div.sk-dashed-wrapped {border: 1px dashed gray;margin: 0 0.4em 0.5em 0.4em;box-sizing: border-box;padding-bottom: 0.4em;background-color: white;}#sk-container-id-2 div.sk-label label {font-family: monospace;font-weight: bold;display: inline-block;line-height: 1.2em;}#sk-container-id-2 div.sk-label-container {text-align: center;}#sk-container-id-2 div.sk-container {/* jupyter's `normalize.less` sets `[hidden] { display: none; }` but bootstrap.min.css set `[hidden] { display: none !important; }` so we also need the `!important` here to be able to override the default hidden behavior on the sphinx rendered scikit-learn.org. See: https://github.com/scikit-learn/scikit-learn/issues/21755 */display: inline-block !important;position: relative;}#sk-container-id-2 div.sk-text-repr-fallback {display: none;}</style><div id=\"sk-container-id-2\" class=\"sk-top-container\"><div class=\"sk-text-repr-fallback\"><pre>RandomForestClassifier(random_state=0)</pre><b>In a Jupyter environment, please rerun this cell to show the HTML representation or trust the notebook. <br />On GitHub, the HTML representation is unable to render, please try loading this page with nbviewer.org.</b></div><div class=\"sk-container\" hidden><div class=\"sk-item\"><div class=\"sk-estimator sk-toggleable\"><input class=\"sk-toggleable__control sk-hidden--visually\" id=\"sk-estimator-id-2\" type=\"checkbox\" checked><label for=\"sk-estimator-id-2\" class=\"sk-toggleable__label sk-toggleable__label-arrow\">RandomForestClassifier</label><div class=\"sk-toggleable__content\"><pre>RandomForestClassifier(random_state=0)</pre></div></div></div></div></div>"
      ],
      "text/plain": [
       "RandomForestClassifier(random_state=0)"
      ]
     },
     "execution_count": 102,
     "metadata": {},
     "output_type": "execute_result"
    }
   ],
   "source": [
    "clf.fit(x_train,y_train.values.ravel())"
   ]
  },
  {
   "cell_type": "code",
   "execution_count": 103,
   "id": "1b811e72-2f6a-424a-9b25-e0049706fa3b",
   "metadata": {},
   "outputs": [
    {
     "name": "stdout",
     "output_type": "stream",
     "text": [
      "              precision    recall  f1-score   support\n",
      "\n",
      "           0       0.90      0.97      0.94      7642\n",
      "           1       0.86      0.63      0.73      2133\n",
      "\n",
      "    accuracy                           0.90      9775\n",
      "   macro avg       0.88      0.80      0.83      9775\n",
      "weighted avg       0.89      0.90      0.89      9775\n",
      "\n"
     ]
    },
    {
     "data": {
      "image/png": "[encoded data removed]",
      "text/plain": [
       "<Figure size 1080x360 with 2 Axes>"
      ]
     },
     "metadata": {
      "needs_background": "light"
     },
     "output_type": "display_data"
    }
   ],
   "source": [
    "ans=clf.predict(x_test)\n",
    "plt.figure(figsize=(15,5))\n",
    "sns.heatmap(confusion_matrix(y_test.values,ans),annot=True,fmt='d',cmap='magma')\n",
    "print(classification_report(y_test.values,ans))"
   ]
  },
  {
   "cell_type": "code",
   "execution_count": 104,
   "id": "3ac7dccc-7481-453a-a29c-110d102abab7",
   "metadata": {},
   "outputs": [],
   "source": [
    "from imblearn.over_sampling import RandomOverSampler\n",
    "os=RandomOverSampler(random_state=0,sampling_strategy=0.5)\n",
    "x_res,y_res=os.fit_resample(x,y)\n",
    "\n",
    "\n",
    "from sklearn.model_selection import train_test_split\n",
    "x_train,x_test,y_train,y_test=train_test_split(x_res,y_res,test_size=0.3,random_state=20)"
   ]
  },
  {
   "cell_type": "code",
   "execution_count": 105,
   "id": "94fea04e-e927-4c28-88df-56a0aefdf3d2",
   "metadata": {},
   "outputs": [
    {
     "data": {
      "text/plain": [
       "0    7734\n",
       "1    3729\n",
       "Name: loan_status, dtype: int64"
      ]
     },
     "execution_count": 105,
     "metadata": {},
     "output_type": "execute_result"
    }
   ],
   "source": [
    "y_test[\"loan_status\"].value_counts()"
   ]
  },
  {
   "cell_type": "code",
   "execution_count": 106,
   "id": "cb058b9a-f40d-4b5f-880a-d8113a0892e3",
   "metadata": {},
   "outputs": [
    {
     "data": {
      "text/plain": [
       "0    17739\n",
       "1     9007\n",
       "Name: loan_status, dtype: int64"
      ]
     },
     "execution_count": 106,
     "metadata": {},
     "output_type": "execute_result"
    }
   ],
   "source": [
    "y_train[\"loan_status\"].value_counts()"
   ]
  },
  {
   "cell_type": "code",
   "execution_count": 107,
   "id": "50feec51-2461-4e21-b5ac-0ec1ee62aa1f",
   "metadata": {},
   "outputs": [],
   "source": [
    "lr.fit(x_train,y_train.values.ravel())\n",
    "y_pred=lr.predict(x_test)"
   ]
  },
  {
   "cell_type": "code",
   "execution_count": 108,
   "id": "64f5ad8e-5464-431f-b005-19e505583701",
   "metadata": {},
   "outputs": [
    {
     "data": {
      "image/png": "[encoded data removed]",
      "text/plain": [
       "<Figure size 1080x360 with 2 Axes>"
      ]
     },
     "metadata": {
      "needs_background": "light"
     },
     "output_type": "display_data"
    },
    {
     "name": "stdout",
     "output_type": "stream",
     "text": [
      "              precision    recall  f1-score   support\n",
      "\n",
      "           0       0.82      0.89      0.85      7734\n",
      "           1       0.72      0.59      0.65      3729\n",
      "\n",
      "    accuracy                           0.79     11463\n",
      "   macro avg       0.77      0.74      0.75     11463\n",
      "weighted avg       0.79      0.79      0.79     11463\n",
      "\n"
     ]
    }
   ],
   "source": [
    "plt.figure(figsize=(15,5))\n",
    "sns.heatmap(confusion_matrix(y_test.values,y_pred),annot=True,cmap=\"PuOr\",fmt='d')\n",
    "plt.show()\n",
    "print(classification_report(y_test.values,y_pred))"
   ]
  },
  {
   "cell_type": "code",
   "execution_count": 109,
   "id": "48a5676a-650f-4a35-b6b5-a25414e49ec4",
   "metadata": {},
   "outputs": [
    {
     "name": "stdout",
     "output_type": "stream",
     "text": [
      "              precision    recall  f1-score   support\n",
      "\n",
      "           0       0.94      0.96      0.95      7734\n",
      "           1       0.91      0.86      0.89      3729\n",
      "\n",
      "    accuracy                           0.93     11463\n",
      "   macro avg       0.92      0.91      0.92     11463\n",
      "weighted avg       0.93      0.93      0.93     11463\n",
      "\n"
     ]
    },
    {
     "data": {
      "image/png": "[encoded data removed]",
      "text/plain": [
       "<Figure size 1080x360 with 2 Axes>"
      ]
     },
     "metadata": {
      "needs_background": "light"
     },
     "output_type": "display_data"
    }
   ],
   "source": [
    "clf.fit(x_train,y_train.values.ravel())\n",
    "ans=clf.predict(x_test)\n",
    "plt.figure(figsize=(15,5))\n",
    "sns.heatmap(confusion_matrix(y_test.values,ans),annot=True,fmt='d',cmap='inferno')\n",
    "print(classification_report(y_test.values,ans))"
   ]
  },
  {
   "cell_type": "code",
   "execution_count": 110,
   "id": "5b0b0cb9-48d9-499d-9af8-b8da1767239c",
   "metadata": {},
   "outputs": [
    {
     "data": {
      "image/png": "[encoded data removed]",
      "text/plain": [
       "<Figure size 864x576 with 1 Axes>"
      ]
     },
     "metadata": {
      "needs_background": "light"
     },
     "output_type": "display_data"
    }
   ],
   "source": [
    "from sklearn.metrics import roc_curve\n",
    "\n",
    "def plot_roc_curve(fpr, tpr, label=None):\n",
    "    plt.plot(fpr, tpr, linewidth=2, label=label)\n",
    "    plt.plot([0, 1], [0, 1], \"k--\")\n",
    "    plt.axis([0, 1, 0, 1])\n",
    "    plt.xlabel('False Positive Rate')\n",
    "    plt.ylabel('True Positive Rate')\n",
    "    plt.title('ROC Curve_logistic regression')\n",
    "\n",
    "fpr, tpr, thresholds = roc_curve(y_test.values, y_pred)\n",
    "plt.figure(figsize=(12,8)); \n",
    "plot_roc_curve(fpr, tpr)\n",
    "plt.show()"
   ]
  },
  {
   "cell_type": "code",
   "execution_count": 111,
   "id": "e0da1884-7b01-486c-abe3-7ee68fc19bfb",
   "metadata": {},
   "outputs": [
    {
     "data": {
      "image/png": "[encoded data removed]",
      "text/plain": [
       "<Figure size 864x576 with 1 Axes>"
      ]
     },
     "metadata": {
      "needs_background": "light"
     },
     "output_type": "display_data"
    }
   ],
   "source": [
    "def plot_roc_curve(fpr, tpr, label=None):\n",
    "    plt.plot(fpr, tpr, linewidth=2, label=label)\n",
    "    plt.plot([0, 1], [0, 1], \"k--\")\n",
    "    plt.axis([0, 1, 0, 1])\n",
    "    plt.xlabel('False Positive Rate')\n",
    "    plt.ylabel('True Positive Rate')\n",
    "    plt.title('ROC Curve_Random Forest')\n",
    "\n",
    "fpr, tpr, thresholds = roc_curve(y_test.values, ans)\n",
    "plt.figure(figsize=(12,8)); \n",
    "plot_roc_curve(fpr, tpr)\n",
    "plt.show()"
   ]
  },
  {
   "cell_type": "code",
   "execution_count": null,
   "id": "e68c0d79-e28f-439d-a116-a175f8be6036",
   "metadata": {},
   "outputs": [],
   "source": []
  }
 ],
 "metadata": {
  "kernelspec": {
   "display_name": "Python 3 (ipykernel)",
   "language": "python",
   "name": "python3"
  },
  "language_info": {
   "codemirror_mode": {
    "name": "ipython",
    "version": 3
   },
   "file_extension": ".py",
   "mimetype": "text/x-python",
   "name": "python",
   "nbconvert_exporter": "python",
   "pygments_lexer": "ipython3",
   "version": "3.9.12"
  }
 },
 "nbformat": 4,
 "nbformat_minor": 5
}
